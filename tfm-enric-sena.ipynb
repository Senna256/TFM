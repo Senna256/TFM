{
 "cells": [
  {
   "cell_type": "code",
   "execution_count": 1,
   "id": "aa79188e",
   "metadata": {
    "_cell_guid": "b1076dfc-b9ad-4769-8c92-a6c4dae69d19",
    "_uuid": "8f2839f25d086af736a60e9eeb907d3b93b6e0e5",
    "execution": {
     "iopub.execute_input": "2025-04-01T19:14:27.790622Z",
     "iopub.status.busy": "2025-04-01T19:14:27.790279Z",
     "iopub.status.idle": "2025-04-01T19:14:27.795180Z",
     "shell.execute_reply": "2025-04-01T19:14:27.794368Z"
    },
    "papermill": {
     "duration": 0.010059,
     "end_time": "2025-04-01T19:14:27.796760",
     "exception": false,
     "start_time": "2025-04-01T19:14:27.786701",
     "status": "completed"
    },
    "tags": []
   },
   "outputs": [],
   "source": [
    "#TFM UNIR BIG DATA"
   ]
  },
  {
   "cell_type": "code",
   "execution_count": 2,
   "id": "aca1184d",
   "metadata": {
    "execution": {
     "iopub.execute_input": "2025-04-01T19:14:27.802084Z",
     "iopub.status.busy": "2025-04-01T19:14:27.801753Z",
     "iopub.status.idle": "2025-04-01T19:14:28.778217Z",
     "shell.execute_reply": "2025-04-01T19:14:28.777107Z"
    },
    "papermill": {
     "duration": 0.980967,
     "end_time": "2025-04-01T19:14:28.780215",
     "exception": false,
     "start_time": "2025-04-01T19:14:27.799248",
     "status": "completed"
    },
    "tags": []
   },
   "outputs": [],
   "source": [
    "import pandas as pd\n",
    "import numpy as np"
   ]
  },
  {
   "cell_type": "code",
   "execution_count": 3,
   "id": "8f37ae73",
   "metadata": {
    "execution": {
     "iopub.execute_input": "2025-04-01T19:14:28.785738Z",
     "iopub.status.busy": "2025-04-01T19:14:28.785240Z",
     "iopub.status.idle": "2025-04-01T19:14:29.012315Z",
     "shell.execute_reply": "2025-04-01T19:14:29.011160Z"
    },
    "papermill": {
     "duration": 0.231992,
     "end_time": "2025-04-01T19:14:29.014353",
     "exception": false,
     "start_time": "2025-04-01T19:14:28.782361",
     "status": "completed"
    },
    "tags": []
   },
   "outputs": [],
   "source": [
    "df=pd.read_csv(\"/kaggle/input/dataset/preus_tancament_r.csv\")"
   ]
  },
  {
   "cell_type": "code",
   "execution_count": 4,
   "id": "ead4286b",
   "metadata": {
    "execution": {
     "iopub.execute_input": "2025-04-01T19:14:29.019579Z",
     "iopub.status.busy": "2025-04-01T19:14:29.019210Z",
     "iopub.status.idle": "2025-04-01T19:14:29.064617Z",
     "shell.execute_reply": "2025-04-01T19:14:29.063260Z"
    },
    "papermill": {
     "duration": 0.049939,
     "end_time": "2025-04-01T19:14:29.066417",
     "exception": false,
     "start_time": "2025-04-01T19:14:29.016478",
     "status": "completed"
    },
    "tags": []
   },
   "outputs": [
    {
     "name": "stderr",
     "output_type": "stream",
     "text": [
      "/usr/local/lib/python3.10/dist-packages/pandas/io/formats/format.py:1458: RuntimeWarning: invalid value encountered in greater\n",
      "  has_large_values = (abs_vals > 1e6).any()\n",
      "/usr/local/lib/python3.10/dist-packages/pandas/io/formats/format.py:1459: RuntimeWarning: invalid value encountered in less\n",
      "  has_small_values = ((abs_vals < 10 ** (-self.digits)) & (abs_vals > 0)).any()\n",
      "/usr/local/lib/python3.10/dist-packages/pandas/io/formats/format.py:1459: RuntimeWarning: invalid value encountered in greater\n",
      "  has_small_values = ((abs_vals < 10 ** (-self.digits)) & (abs_vals > 0)).any()\n",
      "/usr/local/lib/python3.10/dist-packages/pandas/io/formats/format.py:1458: RuntimeWarning: invalid value encountered in greater\n",
      "  has_large_values = (abs_vals > 1e6).any()\n",
      "/usr/local/lib/python3.10/dist-packages/pandas/io/formats/format.py:1459: RuntimeWarning: invalid value encountered in less\n",
      "  has_small_values = ((abs_vals < 10 ** (-self.digits)) & (abs_vals > 0)).any()\n",
      "/usr/local/lib/python3.10/dist-packages/pandas/io/formats/format.py:1459: RuntimeWarning: invalid value encountered in greater\n",
      "  has_small_values = ((abs_vals < 10 ** (-self.digits)) & (abs_vals > 0)).any()\n"
     ]
    },
    {
     "data": {
      "text/html": [
       "<div>\n",
       "<style scoped>\n",
       "    .dataframe tbody tr th:only-of-type {\n",
       "        vertical-align: middle;\n",
       "    }\n",
       "\n",
       "    .dataframe tbody tr th {\n",
       "        vertical-align: top;\n",
       "    }\n",
       "\n",
       "    .dataframe thead th {\n",
       "        text-align: right;\n",
       "    }\n",
       "</style>\n",
       "<table border=\"1\" class=\"dataframe\">\n",
       "  <thead>\n",
       "    <tr style=\"text-align: right;\">\n",
       "      <th></th>\n",
       "      <th>Unnamed: 0</th>\n",
       "      <th>Date</th>\n",
       "      <th>GSPC.Open</th>\n",
       "      <th>GSPC.High</th>\n",
       "      <th>GSPC.Low</th>\n",
       "      <th>GSPC.Close</th>\n",
       "      <th>GSPC.Volume</th>\n",
       "      <th>GSPC.Adjusted</th>\n",
       "      <th>IBEX.Open</th>\n",
       "      <th>IBEX.High</th>\n",
       "      <th>...</th>\n",
       "      <th>CABK.Low</th>\n",
       "      <th>CABK.Close</th>\n",
       "      <th>CABK.Volume</th>\n",
       "      <th>CABK.Adjusted</th>\n",
       "      <th>FER.Open</th>\n",
       "      <th>FER.High</th>\n",
       "      <th>FER.Low</th>\n",
       "      <th>FER.Close</th>\n",
       "      <th>FER.Volume</th>\n",
       "      <th>FER.Adjusted</th>\n",
       "    </tr>\n",
       "  </thead>\n",
       "  <tbody>\n",
       "    <tr>\n",
       "      <th>0</th>\n",
       "      <td>1</td>\n",
       "      <td>2010-01-04</td>\n",
       "      <td>1116.560059</td>\n",
       "      <td>1133.869995</td>\n",
       "      <td>1116.560059</td>\n",
       "      <td>1132.989990</td>\n",
       "      <td>3.991400e+09</td>\n",
       "      <td>1132.989990</td>\n",
       "      <td>11986.500000</td>\n",
       "      <td>12145.099609</td>\n",
       "      <td>...</td>\n",
       "      <td>1.37222</td>\n",
       "      <td>1.37222</td>\n",
       "      <td>0.0</td>\n",
       "      <td>1.37222</td>\n",
       "      <td>NaN</td>\n",
       "      <td>NaN</td>\n",
       "      <td>NaN</td>\n",
       "      <td>NaN</td>\n",
       "      <td>NaN</td>\n",
       "      <td>NaN</td>\n",
       "    </tr>\n",
       "    <tr>\n",
       "      <th>1</th>\n",
       "      <td>2</td>\n",
       "      <td>2010-01-05</td>\n",
       "      <td>1132.660034</td>\n",
       "      <td>1136.630005</td>\n",
       "      <td>1129.660034</td>\n",
       "      <td>1136.520020</td>\n",
       "      <td>2.491020e+09</td>\n",
       "      <td>1136.520020</td>\n",
       "      <td>12141.799805</td>\n",
       "      <td>12240.500000</td>\n",
       "      <td>...</td>\n",
       "      <td>1.32222</td>\n",
       "      <td>1.36667</td>\n",
       "      <td>833.0</td>\n",
       "      <td>1.36667</td>\n",
       "      <td>NaN</td>\n",
       "      <td>NaN</td>\n",
       "      <td>NaN</td>\n",
       "      <td>NaN</td>\n",
       "      <td>NaN</td>\n",
       "      <td>NaN</td>\n",
       "    </tr>\n",
       "    <tr>\n",
       "      <th>2</th>\n",
       "      <td>3</td>\n",
       "      <td>2010-01-06</td>\n",
       "      <td>1135.709961</td>\n",
       "      <td>1139.189941</td>\n",
       "      <td>1133.949951</td>\n",
       "      <td>1137.140015</td>\n",
       "      <td>4.972660e+09</td>\n",
       "      <td>1137.140015</td>\n",
       "      <td>12216.400391</td>\n",
       "      <td>12230.700195</td>\n",
       "      <td>...</td>\n",
       "      <td>1.36111</td>\n",
       "      <td>1.38333</td>\n",
       "      <td>163881.0</td>\n",
       "      <td>1.38333</td>\n",
       "      <td>NaN</td>\n",
       "      <td>NaN</td>\n",
       "      <td>NaN</td>\n",
       "      <td>NaN</td>\n",
       "      <td>NaN</td>\n",
       "      <td>NaN</td>\n",
       "    </tr>\n",
       "    <tr>\n",
       "      <th>3</th>\n",
       "      <td>4</td>\n",
       "      <td>2010-01-07</td>\n",
       "      <td>1136.270020</td>\n",
       "      <td>1142.459961</td>\n",
       "      <td>1131.319946</td>\n",
       "      <td>1141.689941</td>\n",
       "      <td>5.270680e+09</td>\n",
       "      <td>1141.689941</td>\n",
       "      <td>12163.000000</td>\n",
       "      <td>12199.700195</td>\n",
       "      <td>...</td>\n",
       "      <td>1.36667</td>\n",
       "      <td>1.37778</td>\n",
       "      <td>31284.0</td>\n",
       "      <td>1.37778</td>\n",
       "      <td>NaN</td>\n",
       "      <td>NaN</td>\n",
       "      <td>NaN</td>\n",
       "      <td>NaN</td>\n",
       "      <td>NaN</td>\n",
       "      <td>NaN</td>\n",
       "    </tr>\n",
       "    <tr>\n",
       "      <th>4</th>\n",
       "      <td>5</td>\n",
       "      <td>2010-01-08</td>\n",
       "      <td>1140.520020</td>\n",
       "      <td>1145.390015</td>\n",
       "      <td>1136.219971</td>\n",
       "      <td>1144.979980</td>\n",
       "      <td>4.389590e+09</td>\n",
       "      <td>1144.979980</td>\n",
       "      <td>12218.000000</td>\n",
       "      <td>12232.200195</td>\n",
       "      <td>...</td>\n",
       "      <td>1.37778</td>\n",
       "      <td>1.37778</td>\n",
       "      <td>0.0</td>\n",
       "      <td>1.37778</td>\n",
       "      <td>NaN</td>\n",
       "      <td>NaN</td>\n",
       "      <td>NaN</td>\n",
       "      <td>NaN</td>\n",
       "      <td>NaN</td>\n",
       "      <td>NaN</td>\n",
       "    </tr>\n",
       "  </tbody>\n",
       "</table>\n",
       "<p>5 rows × 128 columns</p>\n",
       "</div>"
      ],
      "text/plain": [
       "   Unnamed: 0        Date    GSPC.Open    GSPC.High     GSPC.Low   GSPC.Close  \\\n",
       "0           1  2010-01-04  1116.560059  1133.869995  1116.560059  1132.989990   \n",
       "1           2  2010-01-05  1132.660034  1136.630005  1129.660034  1136.520020   \n",
       "2           3  2010-01-06  1135.709961  1139.189941  1133.949951  1137.140015   \n",
       "3           4  2010-01-07  1136.270020  1142.459961  1131.319946  1141.689941   \n",
       "4           5  2010-01-08  1140.520020  1145.390015  1136.219971  1144.979980   \n",
       "\n",
       "    GSPC.Volume  GSPC.Adjusted     IBEX.Open     IBEX.High  ...  CABK.Low  \\\n",
       "0  3.991400e+09    1132.989990  11986.500000  12145.099609  ...   1.37222   \n",
       "1  2.491020e+09    1136.520020  12141.799805  12240.500000  ...   1.32222   \n",
       "2  4.972660e+09    1137.140015  12216.400391  12230.700195  ...   1.36111   \n",
       "3  5.270680e+09    1141.689941  12163.000000  12199.700195  ...   1.36667   \n",
       "4  4.389590e+09    1144.979980  12218.000000  12232.200195  ...   1.37778   \n",
       "\n",
       "   CABK.Close  CABK.Volume  CABK.Adjusted  FER.Open  FER.High  FER.Low  \\\n",
       "0     1.37222          0.0        1.37222       NaN       NaN      NaN   \n",
       "1     1.36667        833.0        1.36667       NaN       NaN      NaN   \n",
       "2     1.38333     163881.0        1.38333       NaN       NaN      NaN   \n",
       "3     1.37778      31284.0        1.37778       NaN       NaN      NaN   \n",
       "4     1.37778          0.0        1.37778       NaN       NaN      NaN   \n",
       "\n",
       "   FER.Close  FER.Volume  FER.Adjusted  \n",
       "0        NaN         NaN           NaN  \n",
       "1        NaN         NaN           NaN  \n",
       "2        NaN         NaN           NaN  \n",
       "3        NaN         NaN           NaN  \n",
       "4        NaN         NaN           NaN  \n",
       "\n",
       "[5 rows x 128 columns]"
      ]
     },
     "execution_count": 4,
     "metadata": {},
     "output_type": "execute_result"
    }
   ],
   "source": [
    "df.head()"
   ]
  },
  {
   "cell_type": "code",
   "execution_count": null,
   "id": "98bc1ac0",
   "metadata": {
    "papermill": {
     "duration": 0.002193,
     "end_time": "2025-04-01T19:14:29.071111",
     "exception": false,
     "start_time": "2025-04-01T19:14:29.068918",
     "status": "completed"
    },
    "tags": []
   },
   "outputs": [],
   "source": []
  }
 ],
 "metadata": {
  "kaggle": {
   "accelerator": "none",
   "dataSources": [
    {
     "datasetId": 7025358,
     "sourceId": 11243975,
     "sourceType": "datasetVersion"
    }
   ],
   "dockerImageVersionId": 30918,
   "isGpuEnabled": false,
   "isInternetEnabled": true,
   "language": "python",
   "sourceType": "notebook"
  },
  "kernelspec": {
   "display_name": "Python 3",
   "language": "python",
   "name": "python3"
  },
  "language_info": {
   "codemirror_mode": {
    "name": "ipython",
    "version": 3
   },
   "file_extension": ".py",
   "mimetype": "text/x-python",
   "name": "python",
   "nbconvert_exporter": "python",
   "pygments_lexer": "ipython3",
   "version": "3.10.12"
  },
  "papermill": {
   "default_parameters": {},
   "duration": 4.676539,
   "end_time": "2025-04-01T19:14:29.593644",
   "environment_variables": {},
   "exception": null,
   "input_path": "__notebook__.ipynb",
   "output_path": "__notebook__.ipynb",
   "parameters": {},
   "start_time": "2025-04-01T19:14:24.917105",
   "version": "2.6.0"
  }
 },
 "nbformat": 4,
 "nbformat_minor": 5
}
